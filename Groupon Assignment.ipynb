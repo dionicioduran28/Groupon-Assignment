{
 "cells": [
  {
   "cell_type": "markdown",
   "metadata": {},
   "source": [
    "\n",
    "# Groupon Assignment\n",
    "\n",
    "## Table of Contents\n",
    "<ul>\n",
    "<li><a href=\"#intro\">Introduction</a></li>\n",
    "&nbsp;\n",
    "<li><a href=\"#Part 1\">Part 1</a></li>\n",
    "<li><a href=\"#wrangling\">Data Wrangling</a></li>\n",
    "<li><a href=\"#eda\">Exploratory Data Analysis</a></li>\n",
    "<li><a href=\"#financials\">Financial Analysis</a></li>\n",
    "<li><a href=\"#recommendation\">Recommendation for GRPN Stock</a></li>\n",
    "<li><a href=\"#qual_sum\">Quality Assurance Summary</a></li>\n",
    "&nbsp;\n",
    "<li><a href=\"#part2\">Part 2</a></li>\n",
    "<li><a href=\"#p2datawrang\">Data Wrangling and Cleaning</a></li>\n",
    "<li><a href=\"#dupemethod\">Duplication Methodology Explained</a></li> \n",
    "<li><a href=\"#validdeals\">Valid Deals</a></li>\n",
    "<li><a href=\"#est_sum\">Summary of Estimates</a></li>\n",
    "</ul>"
   ]
  },
  {
   "cell_type": "markdown",
   "metadata": {},
   "source": [
    "<a id='intro'></a>\n",
    "## Introduction\n",
    "\n",
    "The objective for this Jupyter Notebook will be broken down into two parts. I will be conducting various analyses on datasets for Groupon, and documenting steps within this notebook.\n",
    "\n",
    "### Part 1:\n",
    "\n",
    "For Part 1 of this assignment, I will use a dataset given to me to estimate Groupon’s 4Q13 North America gross billings by segment (Local, Goods, Travel) and make a buy or sell recommendation of GRPN stock ahead of Groupon’s 4Q13 earnings release. This dataset includes 4Q2013 North American Groupon deals, units sold, and billings associated with each specific deal for the given quarter, broken down by segment. Throughout this notebook, I will be running a series of quality assurance checks to check the integrity of our data, ensuring that we have no duplicated rows (deals), no missing data, no incorrect data types or NaN values. Explanations for quality assurance, and any adjustments will be documented within the notebook. Additionally, I will be including a detailed explanation of my methodology for dealing with the gap in data from 10/20/13 - 10/30/13 for the local segment. Once the data has been assessed, and cleaned, I will be providing a summary of my estimates for 4Q2013 gross billings by segment, performing financial analysis, and comparing my estimates to those of Wall Street equity research reports. After the summary, I will be providing my buy or sell recommendation for GRPN stock.\n",
    "\n",
    "### Part 2:\n",
    "\n",
    "For Part 2 of this assignment, I will develop, describe, and implement a methodology to remove duplicate deals from a dataset provided to us in order to estimate March 2015 Groupon billings in Belgium. We will be using both Python and Excel to analyze our data, and derive a methodology for removing duplicate deals from this dataset. Any work done in Excel will also be documented in this notebook.\n",
    "\n",
    "\n",
    "\n"
   ]
  },
  {
   "cell_type": "code",
   "execution_count": 1,
   "metadata": {
    "collapsed": true
   },
   "outputs": [],
   "source": [
    "# Use this cell to set up import statements for all of the packages that we will be using.\n",
    "import numpy as np\n",
    "import pandas as pd\n",
    "from IPython.display import Image"
   ]
  },
  {
   "cell_type": "markdown",
   "metadata": {},
   "source": [
    "<a id='Part 1'></a>\n",
    "# Part 1"
   ]
  },
  {
   "cell_type": "markdown",
   "metadata": {},
   "source": [
    "<a id='wrangling'></a>\n",
    "## Data Wrangling\n",
    "\n",
    "> In this section of the report, I will load in the data, check for cleanliness, and then trim and clean the dataset for analysis.\n",
    "\n",
    "### General Properties"
   ]
  },
  {
   "cell_type": "code",
   "execution_count": 2,
   "metadata": {
    "collapsed": true
   },
   "outputs": [],
   "source": [
    "# load in datasets using pandas csv reader \n",
    "df_group = pd.read_csv('Q4_2013_Groupon_North_America_Data_XLSX.csv')"
   ]
  },
  {
   "cell_type": "code",
   "execution_count": 3,
   "metadata": {},
   "outputs": [
    {
     "data": {
      "text/html": [
       "<div>\n",
       "<style scoped>\n",
       "    .dataframe tbody tr th:only-of-type {\n",
       "        vertical-align: middle;\n",
       "    }\n",
       "\n",
       "    .dataframe tbody tr th {\n",
       "        vertical-align: top;\n",
       "    }\n",
       "\n",
       "    .dataframe thead th {\n",
       "        text-align: right;\n",
       "    }\n",
       "</style>\n",
       "<table border=\"1\" class=\"dataframe\">\n",
       "  <thead>\n",
       "    <tr style=\"text-align: right;\">\n",
       "      <th></th>\n",
       "      <th>Deal ID</th>\n",
       "      <th>Units Sold</th>\n",
       "      <th>Billings</th>\n",
       "      <th>Start Date</th>\n",
       "      <th>Deal URL</th>\n",
       "      <th>Segment</th>\n",
       "      <th>Inventory Type</th>\n",
       "      <th>Unnamed: 7</th>\n",
       "    </tr>\n",
       "  </thead>\n",
       "  <tbody>\n",
       "    <tr>\n",
       "      <th>0</th>\n",
       "      <td>gr-millevois-tire-service-center</td>\n",
       "      <td>0.0</td>\n",
       "      <td>0.0</td>\n",
       "      <td>11/21/11</td>\n",
       "      <td>http://www.groupon.com/deals/gr-millevois-tire...</td>\n",
       "      <td>Local</td>\n",
       "      <td>Third - Party</td>\n",
       "      <td>NaN</td>\n",
       "    </tr>\n",
       "    <tr>\n",
       "      <th>1</th>\n",
       "      <td>gr-manakeesh-cafe-bakery</td>\n",
       "      <td>0.0</td>\n",
       "      <td>0.0</td>\n",
       "      <td>11/21/11</td>\n",
       "      <td>http://www.groupon.com/deals/gr-manakeesh-cafe...</td>\n",
       "      <td>Local</td>\n",
       "      <td>Third - Party</td>\n",
       "      <td>NaN</td>\n",
       "    </tr>\n",
       "    <tr>\n",
       "      <th>2</th>\n",
       "      <td>gr-phoenix-salon-and-spa</td>\n",
       "      <td>0.0</td>\n",
       "      <td>0.0</td>\n",
       "      <td>11/21/11</td>\n",
       "      <td>http://www.groupon.com/deals/gr-phoenix-salon-...</td>\n",
       "      <td>Local</td>\n",
       "      <td>Third - Party</td>\n",
       "      <td>NaN</td>\n",
       "    </tr>\n",
       "    <tr>\n",
       "      <th>3</th>\n",
       "      <td>gr-hands-in-motion</td>\n",
       "      <td>0.0</td>\n",
       "      <td>0.0</td>\n",
       "      <td>11/21/11</td>\n",
       "      <td>http://www.groupon.com/deals/gr-hands-in-motion</td>\n",
       "      <td>Local</td>\n",
       "      <td>Third - Party</td>\n",
       "      <td>NaN</td>\n",
       "    </tr>\n",
       "    <tr>\n",
       "      <th>4</th>\n",
       "      <td>dc-fd2-bartending-college-allentown-reading</td>\n",
       "      <td>86.8</td>\n",
       "      <td>4253.2</td>\n",
       "      <td>6/6/12</td>\n",
       "      <td>http://www.groupon.com/deals/dc-fd2-bartending...</td>\n",
       "      <td>Local</td>\n",
       "      <td>Third - Party</td>\n",
       "      <td>NaN</td>\n",
       "    </tr>\n",
       "  </tbody>\n",
       "</table>\n",
       "</div>"
      ],
      "text/plain": [
       "                                       Deal ID  Units Sold  Billings  \\\n",
       "0             gr-millevois-tire-service-center         0.0       0.0   \n",
       "1                     gr-manakeesh-cafe-bakery         0.0       0.0   \n",
       "2                     gr-phoenix-salon-and-spa         0.0       0.0   \n",
       "3                           gr-hands-in-motion         0.0       0.0   \n",
       "4  dc-fd2-bartending-college-allentown-reading        86.8    4253.2   \n",
       "\n",
       "  Start Date                                           Deal URL Segment  \\\n",
       "0   11/21/11  http://www.groupon.com/deals/gr-millevois-tire...   Local   \n",
       "1   11/21/11  http://www.groupon.com/deals/gr-manakeesh-cafe...   Local   \n",
       "2   11/21/11  http://www.groupon.com/deals/gr-phoenix-salon-...   Local   \n",
       "3   11/21/11    http://www.groupon.com/deals/gr-hands-in-motion   Local   \n",
       "4     6/6/12  http://www.groupon.com/deals/dc-fd2-bartending...   Local   \n",
       "\n",
       "  Inventory Type  Unnamed: 7  \n",
       "0  Third - Party         NaN  \n",
       "1  Third - Party         NaN  \n",
       "2  Third - Party         NaN  \n",
       "3  Third - Party         NaN  \n",
       "4  Third - Party         NaN  "
      ]
     },
     "execution_count": 3,
     "metadata": {},
     "output_type": "execute_result"
    }
   ],
   "source": [
    "# display the first 5 lines of our dataset in order to see how the data was imported \n",
    "df_group.head()"
   ]
  },
  {
   "cell_type": "markdown",
   "metadata": {},
   "source": [
    "I notice in looking at our dataset above, that there is an unnamed column that contains NaN values which I will need to drop later on. I can also notice that our column names contain spaces and uppercase letters, I will parse through these later on to make them more easily accesible. "
   ]
  },
  {
   "cell_type": "code",
   "execution_count": 4,
   "metadata": {},
   "outputs": [
    {
     "data": {
      "text/plain": [
       "Deal ID                                   essential-health-center-4\n",
       "Units Sold                                                        0\n",
       "Billings                                                          0\n",
       "Start Date                                                   1/9/13\n",
       "Deal URL          http://www.groupon.com/deals/essential-health-...\n",
       "Segment                                                       Local\n",
       "Inventory Type                                        Third - Party\n",
       "Unnamed: 7                                                      NaN\n",
       "Name: 5000, dtype: object"
      ]
     },
     "execution_count": 4,
     "metadata": {},
     "output_type": "execute_result"
    }
   ],
   "source": [
    "# check the values in each column for a certain row in our dataset to check that columns have valid data \n",
    "df_group.iloc[5000]"
   ]
  },
  {
   "cell_type": "code",
   "execution_count": 5,
   "metadata": {},
   "outputs": [
    {
     "name": "stdout",
     "output_type": "stream",
     "text": [
      "<class 'pandas.core.frame.DataFrame'>\n",
      "RangeIndex: 138534 entries, 0 to 138533\n",
      "Data columns (total 8 columns):\n",
      "Deal ID           138534 non-null object\n",
      "Units Sold        138534 non-null float64\n",
      "Billings          138534 non-null float64\n",
      "Start Date        138534 non-null object\n",
      "Deal URL          138534 non-null object\n",
      "Segment           138534 non-null object\n",
      "Inventory Type    138534 non-null object\n",
      "Unnamed: 7        0 non-null float64\n",
      "dtypes: float64(3), object(5)\n",
      "memory usage: 8.5+ MB\n"
     ]
    }
   ],
   "source": [
    "# check the number of values in each column in our dataset to check for missing data and check to see that values are \n",
    "# saved in the correct datatype\n",
    "df_group.info()"
   ]
  },
  {
   "cell_type": "code",
   "execution_count": 6,
   "metadata": {},
   "outputs": [
    {
     "data": {
      "text/plain": [
       "0"
      ]
     },
     "execution_count": 6,
     "metadata": {},
     "output_type": "execute_result"
    }
   ],
   "source": [
    "# check to see if there are any duplicate rows in the dataset \n",
    "df_group.duplicated().sum()"
   ]
  },
  {
   "cell_type": "code",
   "execution_count": 7,
   "metadata": {},
   "outputs": [
    {
     "data": {
      "text/plain": [
       "138534"
      ]
     },
     "execution_count": 7,
     "metadata": {},
     "output_type": "execute_result"
    }
   ],
   "source": [
    "# check the number of unique deal ids \n",
    "df_group[df_group.columns[0]].nunique()"
   ]
  },
  {
   "cell_type": "code",
   "execution_count": 8,
   "metadata": {},
   "outputs": [
    {
     "data": {
      "text/plain": [
       "138534"
      ]
     },
     "execution_count": 8,
     "metadata": {},
     "output_type": "execute_result"
    }
   ],
   "source": [
    "# check the number of unique deal urls \n",
    "df_group[df_group.columns[4]].nunique()"
   ]
  },
  {
   "cell_type": "code",
   "execution_count": 9,
   "metadata": {},
   "outputs": [
    {
     "data": {
      "text/plain": [
       "Deal ID                0\n",
       "Units Sold             0\n",
       "Billings               0\n",
       "Start Date             0\n",
       "Deal URL               0\n",
       "Segment                0\n",
       "Inventory Type         0\n",
       "Unnamed: 7        138534\n",
       "dtype: int64"
      ]
     },
     "execution_count": 9,
     "metadata": {},
     "output_type": "execute_result"
    }
   ],
   "source": [
    "# check the number of None or NaN value in each of the columns\n",
    "df_group.isnull().sum()"
   ]
  },
  {
   "cell_type": "markdown",
   "metadata": {},
   "source": [
    "Taking a look at the results from the above quality assurance tests, I can see that our dataset is actually rather clean. There are no duplicated rows (deals), there is no missing data in any of our required columns considering they all contain 138534 values, and there are no NaN values that need to be removed or filled. Additionally, for the most part, each column contains the correct data type. The only columns which should contain floats are Units Sold and Billings, which they do, but I will need to convert the Start Date column from string to date time. Moving forward, the issues I will have to address are dropping the unnamed extra column, parsing through column names so they are easier to work with later on, converting start date to date time, and working through my methodology to fill the missing data from 10/20/2013 - 10/30/2013."
   ]
  },
  {
   "cell_type": "markdown",
   "metadata": {},
   "source": [
    "In the data cleaning section, I will take care of the above mentioned issues, and document my steps. "
   ]
  },
  {
   "cell_type": "markdown",
   "metadata": {},
   "source": [
    "### Data Cleaning"
   ]
  },
  {
   "cell_type": "markdown",
   "metadata": {
    "collapsed": true
   },
   "source": [
    "Starting data cleaning process for the Groupon dataframe which will include, dropping unnecessary columns, setting start_date to datetime format, parsing through column names, and applying a solution to the missing Local segment data from 10/20/2013 - 10/30/2013."
   ]
  },
  {
   "cell_type": "code",
   "execution_count": 10,
   "metadata": {
    "collapsed": true
   },
   "outputs": [],
   "source": [
    "# drop the unnamed column from our dataframe \n",
    "df_group.drop(labels = df_group.columns[7], axis = 1, inplace = True)"
   ]
  },
  {
   "cell_type": "code",
   "execution_count": 11,
   "metadata": {
    "collapsed": true
   },
   "outputs": [],
   "source": [
    "# parse through column names removing spaces, replacing with '_', and converting everything to lower case \n",
    "df_group.columns = df_group.columns.str.strip().str.lower().str.replace(' ', '_').str.replace('(', '').str.replace(')', '')"
   ]
  },
  {
   "cell_type": "code",
   "execution_count": 12,
   "metadata": {
    "collapsed": true
   },
   "outputs": [],
   "source": [
    "# convert start_date column from str to datetime\n",
    "df_group['start_date'] = pd.to_datetime(df_group['start_date'])"
   ]
  },
  {
   "cell_type": "markdown",
   "metadata": {},
   "source": [
    "In the following cells I will be addressing the missing Local segment data from 10/20/2013 - 10/30/2013. My methodology for filling this missing data will be as follows. \n",
    "\n",
    "> Using our existing monthly data for October 2013 (10/1-10/19), I will find the average number of new deals per day for the Local segment, once I have that figure, I can use that number to create 'place-holder rows' for each day in our missing time period. This will properly account for the number of missing new deals during that time frame. We will use a similar methodology to fill the missing units_sold and gross billings values, as those will also be filled using the mean of each respective value for the existing October 2013 data. I am electing to use the averages for new deals started in October 2013 only (10/1-10/19) because it shows a more accurate, and current depiction than if we were to use all of the existing data. For example, if we were to use all of the data including rows with start dates in 2011, 2012, or any of the other months in 2013, we will be driving down our averages due to the fact that not many deals have been open for that long. Using the existing data from October 2013 also allows me to address the seasonality of the Groupon business. For example, purchase trends are not the same from quarter to quarter due to holiday purchase trends. Additionally, our dataset does not have a full year’s worth of data for 2011, and 2012, but we do for 2013. It is also the date range most closely associated with our missing data, and more accurately represents the actions of the company during that time frame."
   ]
  },
  {
   "cell_type": "code",
   "execution_count": 13,
   "metadata": {
    "collapsed": true
   },
   "outputs": [],
   "source": [
    "# create a seperate dataframe that holds all deals for the local segment\n",
    "df_local = df_group.query(\"segment == 'Local'\")"
   ]
  },
  {
   "cell_type": "code",
   "execution_count": 14,
   "metadata": {
    "collapsed": true
   },
   "outputs": [],
   "source": [
    "# create a dataframe that holds the number of deals associated with every unique startdate for the local segment in 2013\n",
    "df_local_2013 = df_local.query(\"start_date >= '2013-01-01'\")"
   ]
  },
  {
   "cell_type": "code",
   "execution_count": 15,
   "metadata": {
    "collapsed": true
   },
   "outputs": [],
   "source": [
    "# create a dataframe that holds the number of deals associated with every unique startdate between 10/1/13 & 10/19/13\n",
    "df_local_2013_oct = df_local.query(\"start_date >= '2013-10-01' & start_date <= '2013-10-19' \")"
   ]
  },
  {
   "cell_type": "code",
   "execution_count": 16,
   "metadata": {
    "collapsed": true
   },
   "outputs": [],
   "source": [
    "# find the number of average new deals started per day in the local segment for Octbober 2013\n",
    "avg_deals_day_oct = round(df_local_2013_oct.groupby('start_date').count().deal_id.mean())"
   ]
  },
  {
   "cell_type": "code",
   "execution_count": 17,
   "metadata": {},
   "outputs": [
    {
     "name": "stdout",
     "output_type": "stream",
     "text": [
      "The average number of new deals started per day in october is: 562 deals\n"
     ]
    }
   ],
   "source": [
    "print ('The average number of new deals started per day in october is:',avg_deals_day_oct, 'deals')"
   ]
  },
  {
   "cell_type": "markdown",
   "metadata": {},
   "source": [
    "Now I know that the average number of new deals per day in October 2013 for the local segment is 562. With this, I know that for our missing time period, I need to add 562 rows for each day, representing all the missing new deals. The missing new deals will each have a value for gross billings equal to the average gross billings for the time period 10/1/13-10/1/2013, and units sold will be equal to the average units sold per day for that same time period. "
   ]
  },
  {
   "cell_type": "code",
   "execution_count": 18,
   "metadata": {
    "collapsed": true
   },
   "outputs": [],
   "source": [
    "# calculate the average billings for our local segment per start day in October 2013\n",
    "mean_bill_oct_13 = df_local_2013_oct.billings.mean()"
   ]
  },
  {
   "cell_type": "code",
   "execution_count": 19,
   "metadata": {
    "collapsed": true
   },
   "outputs": [],
   "source": [
    "# calculate the average number of units sold for our local segment per start day October in 2013\n",
    "mean_unit_oct_13 = df_local_2013_oct.units_sold.mean()"
   ]
  },
  {
   "cell_type": "markdown",
   "metadata": {},
   "source": [
    "In calculating the mean number of units sold, and the mean billings for the local segment per new start day, we can now use these averages to fill in the data for the missing time period. What we will wind up doing is that for every day in the time period 10/20/2013 - 10/30/2013 we will add 562 rows representing the number of deals that started on that day. We will fill the units_sold and billings columns using the averages per start day. This provides us with an estimation on the value of total gross billings during that time period which was not captured."
   ]
  },
  {
   "cell_type": "code",
   "execution_count": 20,
   "metadata": {
    "collapsed": true
   },
   "outputs": [],
   "source": [
    "# create an empty dataframe with the same column names as the main dataset to use as a holder for the holder rows we will\n",
    "# create. We will then appened this dataframe to the local segment dataframe to account for the missing data \n",
    "df_holders = pd.DataFrame(columns= df_local.columns)\n",
    "\n",
    "# iterate through 325 times each day in our missing time period, creating a place holder row which contains the mean_units sold and the mean_billings \n",
    "for i in range(avg_deals_day_oct):\n",
    "    df_holders = df_holders.append(pd.Series(['deal_id_place_holder_1020' + str(i) , mean_unit_oct_13, mean_bill_oct_13, '10/20/13', 'deal_url_place_holder-1020' + str(i) , 'Local', 'Third - Party' ], index= df_local.columns), ignore_index=True)\n",
    "    df_holders = df_holders.append(pd.Series(['deal_id_place_holder_1021' + str(i) , mean_unit_oct_13, mean_bill_oct_13, '10/21/13', 'deal_url_place_holder-1021' + str(i) , 'Local', 'Third - Party' ], index= df_local.columns), ignore_index=True)\n",
    "    df_holders = df_holders.append(pd.Series(['deal_id_place_holder_1022' + str(i) , mean_unit_oct_13, mean_bill_oct_13, '10/22/13', 'deal_url_place_holder-1022' + str(i) , 'Local', 'Third - Party' ], index= df_local.columns), ignore_index=True)\n",
    "    df_holders = df_holders.append(pd.Series(['deal_id_place_holder_1023' + str(i) , mean_unit_oct_13, mean_bill_oct_13, '10/23/13', 'deal_url_place_holder-1023' + str(i) , 'Local', 'Third - Party' ], index= df_local.columns), ignore_index=True)\n",
    "    df_holders = df_holders.append(pd.Series(['deal_id_place_holder_1024' + str(i) , mean_unit_oct_13, mean_bill_oct_13, '10/24/13', 'deal_url_place_holder-1024' + str(i) , 'Local', 'Third - Party' ], index= df_local.columns), ignore_index=True)\n",
    "    df_holders = df_holders.append(pd.Series(['deal_id_place_holder_1025' + str(i) , mean_unit_oct_13, mean_bill_oct_13, '10/25/13', 'deal_url_place_holder-1025' + str(i) , 'Local', 'Third - Party' ], index= df_local.columns), ignore_index=True)\n",
    "    df_holders = df_holders.append(pd.Series(['deal_id_place_holder_1026' + str(i) , mean_unit_oct_13, mean_bill_oct_13, '10/26/13', 'deal_url_place_holder-1026' + str(i) , 'Local', 'Third - Party' ], index= df_local.columns), ignore_index=True)\n",
    "    df_holders = df_holders.append(pd.Series(['deal_id_place_holder_1027' + str(i) , mean_unit_oct_13, mean_bill_oct_13, '10/27/13', 'deal_url_place_holder-1027' + str(i) , 'Local', 'Third - Party' ], index= df_local.columns), ignore_index=True)\n",
    "    df_holders = df_holders.append(pd.Series(['deal_id_place_holder_1028' + str(i) , mean_unit_oct_13, mean_bill_oct_13, '10/28/13', 'deal_url_place_holder-1028' + str(i) , 'Local', 'Third - Party' ], index= df_local.columns), ignore_index=True)\n",
    "    df_holders = df_holders.append(pd.Series(['deal_id_place_holder_1029' + str(i) , mean_unit_oct_13, mean_bill_oct_13, '10/29/13', 'deal_url_place_holder-1029' + str(i) , 'Local', 'Third - Party' ], index= df_local.columns), ignore_index=True)\n",
    "    df_holders = df_holders.append(pd.Series(['deal_id_place_holder_1030' + str(i) , mean_unit_oct_13, mean_bill_oct_13, '10/30/13', 'deal_url_place_holder-1030' + str(i) , 'Local', 'Third - Party' ], index= df_local.columns), ignore_index=True)\n"
   ]
  },
  {
   "cell_type": "code",
   "execution_count": 21,
   "metadata": {
    "collapsed": true
   },
   "outputs": [],
   "source": [
    "# convert start_date column from str to datetime\n",
    "df_holders['start_date'] = pd.to_datetime(df_holders['start_date'])"
   ]
  },
  {
   "cell_type": "code",
   "execution_count": 22,
   "metadata": {},
   "outputs": [
    {
     "data": {
      "text/html": [
       "<div>\n",
       "<style scoped>\n",
       "    .dataframe tbody tr th:only-of-type {\n",
       "        vertical-align: middle;\n",
       "    }\n",
       "\n",
       "    .dataframe tbody tr th {\n",
       "        vertical-align: top;\n",
       "    }\n",
       "\n",
       "    .dataframe thead th {\n",
       "        text-align: right;\n",
       "    }\n",
       "</style>\n",
       "<table border=\"1\" class=\"dataframe\">\n",
       "  <thead>\n",
       "    <tr style=\"text-align: right;\">\n",
       "      <th></th>\n",
       "      <th>deal_id</th>\n",
       "      <th>units_sold</th>\n",
       "      <th>billings</th>\n",
       "      <th>start_date</th>\n",
       "      <th>deal_url</th>\n",
       "      <th>segment</th>\n",
       "      <th>inventory_type</th>\n",
       "    </tr>\n",
       "  </thead>\n",
       "  <tbody>\n",
       "    <tr>\n",
       "      <th>0</th>\n",
       "      <td>deal_id_place_holder_10200</td>\n",
       "      <td>203.433896</td>\n",
       "      <td>5438.552352</td>\n",
       "      <td>2013-10-20</td>\n",
       "      <td>deal_url_place_holder-10200</td>\n",
       "      <td>Local</td>\n",
       "      <td>Third - Party</td>\n",
       "    </tr>\n",
       "    <tr>\n",
       "      <th>1</th>\n",
       "      <td>deal_id_place_holder_10210</td>\n",
       "      <td>203.433896</td>\n",
       "      <td>5438.552352</td>\n",
       "      <td>2013-10-21</td>\n",
       "      <td>deal_url_place_holder-10210</td>\n",
       "      <td>Local</td>\n",
       "      <td>Third - Party</td>\n",
       "    </tr>\n",
       "    <tr>\n",
       "      <th>2</th>\n",
       "      <td>deal_id_place_holder_10220</td>\n",
       "      <td>203.433896</td>\n",
       "      <td>5438.552352</td>\n",
       "      <td>2013-10-22</td>\n",
       "      <td>deal_url_place_holder-10220</td>\n",
       "      <td>Local</td>\n",
       "      <td>Third - Party</td>\n",
       "    </tr>\n",
       "    <tr>\n",
       "      <th>3</th>\n",
       "      <td>deal_id_place_holder_10230</td>\n",
       "      <td>203.433896</td>\n",
       "      <td>5438.552352</td>\n",
       "      <td>2013-10-23</td>\n",
       "      <td>deal_url_place_holder-10230</td>\n",
       "      <td>Local</td>\n",
       "      <td>Third - Party</td>\n",
       "    </tr>\n",
       "    <tr>\n",
       "      <th>4</th>\n",
       "      <td>deal_id_place_holder_10240</td>\n",
       "      <td>203.433896</td>\n",
       "      <td>5438.552352</td>\n",
       "      <td>2013-10-24</td>\n",
       "      <td>deal_url_place_holder-10240</td>\n",
       "      <td>Local</td>\n",
       "      <td>Third - Party</td>\n",
       "    </tr>\n",
       "    <tr>\n",
       "      <th>5</th>\n",
       "      <td>deal_id_place_holder_10250</td>\n",
       "      <td>203.433896</td>\n",
       "      <td>5438.552352</td>\n",
       "      <td>2013-10-25</td>\n",
       "      <td>deal_url_place_holder-10250</td>\n",
       "      <td>Local</td>\n",
       "      <td>Third - Party</td>\n",
       "    </tr>\n",
       "    <tr>\n",
       "      <th>6</th>\n",
       "      <td>deal_id_place_holder_10260</td>\n",
       "      <td>203.433896</td>\n",
       "      <td>5438.552352</td>\n",
       "      <td>2013-10-26</td>\n",
       "      <td>deal_url_place_holder-10260</td>\n",
       "      <td>Local</td>\n",
       "      <td>Third - Party</td>\n",
       "    </tr>\n",
       "    <tr>\n",
       "      <th>7</th>\n",
       "      <td>deal_id_place_holder_10270</td>\n",
       "      <td>203.433896</td>\n",
       "      <td>5438.552352</td>\n",
       "      <td>2013-10-27</td>\n",
       "      <td>deal_url_place_holder-10270</td>\n",
       "      <td>Local</td>\n",
       "      <td>Third - Party</td>\n",
       "    </tr>\n",
       "    <tr>\n",
       "      <th>8</th>\n",
       "      <td>deal_id_place_holder_10280</td>\n",
       "      <td>203.433896</td>\n",
       "      <td>5438.552352</td>\n",
       "      <td>2013-10-28</td>\n",
       "      <td>deal_url_place_holder-10280</td>\n",
       "      <td>Local</td>\n",
       "      <td>Third - Party</td>\n",
       "    </tr>\n",
       "    <tr>\n",
       "      <th>9</th>\n",
       "      <td>deal_id_place_holder_10290</td>\n",
       "      <td>203.433896</td>\n",
       "      <td>5438.552352</td>\n",
       "      <td>2013-10-29</td>\n",
       "      <td>deal_url_place_holder-10290</td>\n",
       "      <td>Local</td>\n",
       "      <td>Third - Party</td>\n",
       "    </tr>\n",
       "    <tr>\n",
       "      <th>10</th>\n",
       "      <td>deal_id_place_holder_10300</td>\n",
       "      <td>203.433896</td>\n",
       "      <td>5438.552352</td>\n",
       "      <td>2013-10-30</td>\n",
       "      <td>deal_url_place_holder-10300</td>\n",
       "      <td>Local</td>\n",
       "      <td>Third - Party</td>\n",
       "    </tr>\n",
       "  </tbody>\n",
       "</table>\n",
       "</div>"
      ],
      "text/plain": [
       "                       deal_id  units_sold     billings start_date  \\\n",
       "0   deal_id_place_holder_10200  203.433896  5438.552352 2013-10-20   \n",
       "1   deal_id_place_holder_10210  203.433896  5438.552352 2013-10-21   \n",
       "2   deal_id_place_holder_10220  203.433896  5438.552352 2013-10-22   \n",
       "3   deal_id_place_holder_10230  203.433896  5438.552352 2013-10-23   \n",
       "4   deal_id_place_holder_10240  203.433896  5438.552352 2013-10-24   \n",
       "5   deal_id_place_holder_10250  203.433896  5438.552352 2013-10-25   \n",
       "6   deal_id_place_holder_10260  203.433896  5438.552352 2013-10-26   \n",
       "7   deal_id_place_holder_10270  203.433896  5438.552352 2013-10-27   \n",
       "8   deal_id_place_holder_10280  203.433896  5438.552352 2013-10-28   \n",
       "9   deal_id_place_holder_10290  203.433896  5438.552352 2013-10-29   \n",
       "10  deal_id_place_holder_10300  203.433896  5438.552352 2013-10-30   \n",
       "\n",
       "                       deal_url segment inventory_type  \n",
       "0   deal_url_place_holder-10200   Local  Third - Party  \n",
       "1   deal_url_place_holder-10210   Local  Third - Party  \n",
       "2   deal_url_place_holder-10220   Local  Third - Party  \n",
       "3   deal_url_place_holder-10230   Local  Third - Party  \n",
       "4   deal_url_place_holder-10240   Local  Third - Party  \n",
       "5   deal_url_place_holder-10250   Local  Third - Party  \n",
       "6   deal_url_place_holder-10260   Local  Third - Party  \n",
       "7   deal_url_place_holder-10270   Local  Third - Party  \n",
       "8   deal_url_place_holder-10280   Local  Third - Party  \n",
       "9   deal_url_place_holder-10290   Local  Third - Party  \n",
       "10  deal_url_place_holder-10300   Local  Third - Party  "
      ]
     },
     "execution_count": 22,
     "metadata": {},
     "output_type": "execute_result"
    }
   ],
   "source": [
    "# display a snapshot of our dataframe which holds our placeholder rows to be appeneded to both the local and master \n",
    "# dataframes\n",
    "df_holders.head(11)"
   ]
  },
  {
   "cell_type": "code",
   "execution_count": 23,
   "metadata": {},
   "outputs": [
    {
     "data": {
      "text/plain": [
       "(6182, 7)"
      ]
     },
     "execution_count": 23,
     "metadata": {},
     "output_type": "execute_result"
    }
   ],
   "source": [
    "# display the shape of our holders datadrame\n",
    "df_holders.shape"
   ]
  },
  {
   "cell_type": "markdown",
   "metadata": {},
   "source": [
    "As we can see above, the holders_dataframe contains 526 rows (a total of 6182 rows added) for each missing day in our time period. Through this method we can now account for the break in the system that caused the missing data from 10/20 - 10/30. We can now find a more accurate estimate of units_sold, bilings, as well as number of new deals for 4Q2013. "
   ]
  },
  {
   "cell_type": "code",
   "execution_count": 24,
   "metadata": {
    "collapsed": true
   },
   "outputs": [],
   "source": [
    "# create a new dataframe for the local segment which merges the existing local segment data with our place_holders \n",
    "df_loc_filled = pd.concat([df_local,df_holders])"
   ]
  },
  {
   "cell_type": "code",
   "execution_count": 25,
   "metadata": {
    "collapsed": true
   },
   "outputs": [],
   "source": [
    "# create a seperate dataframe that holds all deals for the goods segment\n",
    "df_goods = df_group.query(\"segment == 'Goods'\")"
   ]
  },
  {
   "cell_type": "code",
   "execution_count": 26,
   "metadata": {
    "collapsed": true
   },
   "outputs": [],
   "source": [
    "# create a seperate dataframe that holds all deals for the travel segment\n",
    "df_travel = df_group.query(\"segment == 'Travel'\")"
   ]
  },
  {
   "cell_type": "markdown",
   "metadata": {},
   "source": [
    "<a id='eda'></a>\n",
    "## Exploratory Data Analysis\n",
    "\n",
    "> Now that I have trimmed and cleaned our data, we are ready to move on to exploration, calculations, and analysis. "
   ]
  },
  {
   "cell_type": "code",
   "execution_count": 27,
   "metadata": {},
   "outputs": [
    {
     "name": "stdout",
     "output_type": "stream",
     "text": [
      "The sum of total gross billings for the local segment in 4Q2013 is: $ 442843788.622\n",
      "The sum of total gross billings for the goods segment in 4Q2013 is: $ 282245671.041\n",
      "The sum of total gross billings for the travel segment in 4Q2013 is: $ 70552062.1245\n",
      "The sum of total gross billings for North America in 4Q2013 is: $ 795641521.787\n"
     ]
    }
   ],
   "source": [
    "# sum of total billings for the local segment\n",
    "print ('The sum of total gross billings for the local segment in 4Q2013 is: $', df_loc_filled.billings.sum())\n",
    "# sum of total billings for the goods segment\n",
    "print ('The sum of total gross billings for the goods segment in 4Q2013 is: $', df_goods.billings.sum())\n",
    "# sum of total billings for the travel segment\n",
    "print ('The sum of total gross billings for the travel segment in 4Q2013 is: $', df_travel.billings.sum())\n",
    "# sum of total gross billings\n",
    "print ('The sum of total gross billings for North America in 4Q2013 is: $', df_loc_filled.billings.sum() + df_travel.billings.sum() + df_goods.billings.sum())"
   ]
  },
  {
   "cell_type": "code",
   "execution_count": 28,
   "metadata": {},
   "outputs": [
    {
     "name": "stdout",
     "output_type": "stream",
     "text": [
      "The sum of total units sold for the local segment in 4Q2013 is: 15182108.5994 units\n",
      "The sum of total units sold for the goods segment in 4Q2013 is: 10419746.304 units\n",
      "The sum of total units sold for the travel segment in 4Q2013 is: 378910.2 units\n"
     ]
    }
   ],
   "source": [
    "# sum of total units sold for the local segment\n",
    "print ('The sum of total units sold for the local segment in 4Q2013 is:', df_loc_filled.units_sold.sum(), 'units')\n",
    "# sum of total units sold for the goods segment\n",
    "print ('The sum of total units sold for the goods segment in 4Q2013 is:', df_goods.units_sold.sum(), 'units')\n",
    "# sum of total units sold for the travel segment\n",
    "print ('The sum of total units sold for the travel segment in 4Q2013 is:', df_travel.units_sold.sum(), 'units')"
   ]
  },
  {
   "cell_type": "code",
   "execution_count": 29,
   "metadata": {
    "collapsed": true
   },
   "outputs": [],
   "source": [
    "# create a mask variable to set the time period of 4Q2013 in order to find the number of new deals started during the \n",
    "# quarter for the local segment\n",
    "mask = (df_loc_filled['start_date'] >= '2013-10-1') & (df_loc_filled['start_date'] <= '2013-12-31')\n",
    "\n",
    "# create a mask variable to set the time period of 4Q2013 in order to find the number of new deals started during the \n",
    "# quarter for the goods segment\n",
    "mask_2 = (df_goods['start_date'] >= '2013-10-1') & (df_goods['start_date'] <= '2013-12-31')\n",
    "\n",
    "# create a mask variable to set the time period of 4Q2013 in order to find the number of new deals started during the \n",
    "# quarter for the travel segment\n",
    "mask_3 = (df_travel['start_date'] >= '2013-10-1') & (df_travel['start_date'] <= '2013-12-31')"
   ]
  },
  {
   "cell_type": "code",
   "execution_count": 30,
   "metadata": {},
   "outputs": [
    {
     "name": "stdout",
     "output_type": "stream",
     "text": [
      "The number of new deals started in 4Q2013 for the local segment is: 53162 deals\n",
      "The number of new deals started in 4Q2013 for the goods segment is: 12749 deals\n",
      "The number of new deals started in 4Q2013 for the travel segment is: 2177 deals\n"
     ]
    }
   ],
   "source": [
    "# find the number of new deals started for 4Q2013 for the local segment\n",
    "print ('The number of new deals started in 4Q2013 for the local segment is:', df_loc_filled.loc[mask].deal_id.count(), 'deals')\n",
    "# find the number of new deals started for 4Q2013 for the goods segment\n",
    "print ('The number of new deals started in 4Q2013 for the goods segment is:', df_goods.loc[mask_2].deal_id.count(), 'deals')\n",
    "# find the number of new deals started for 4Q2013 for the travel segment\n",
    "print ('The number of new deals started in 4Q2013 for the travel segment is:', df_travel.loc[mask_3].deal_id.count(),'deals')"
   ]
  },
  {
   "cell_type": "markdown",
   "metadata": {},
   "source": [
    "<a id='financials'></a>\n",
    "## Financial Analysis"
   ]
  },
  {
   "cell_type": "markdown",
   "metadata": {},
   "source": [
    "Now that estimates for gross billings, and units sold by segment have been calculated, I will move forward by adding to the historical financial data provided, and add a column for 4Q2013 Estimates. In adding this column to the excel file, I will use these estimates to calculate Gross Billings QoQ growth, and YoY growth. I will then compare these growth figures, along with estimates for total gross billings, to Wall Street consensus. Below I will be providing a series of images taken from the supplementary excel file. Adding these images will allow me to visualize/summarize my estimated figures, analyze growth statistics, and compare them to that of the Wall Street equity reports."
   ]
  },
  {
   "cell_type": "code",
   "execution_count": 31,
   "metadata": {},
   "outputs": [
    {
     "data": {
      "image/png": "[encoded data removed]",
      "text/plain": [
       "<IPython.core.display.Image object>"
      ]
     },
     "execution_count": 31,
     "metadata": {},
     "output_type": "execute_result"
    }
   ],
   "source": [
    "Image(filename='figure1.png')"
   ]
  },
  {
   "cell_type": "code",
   "execution_count": 32,
   "metadata": {},
   "outputs": [
    {
     "data": {
      "image/png": "[encoded data removed]",
      "text/plain": [
       "<IPython.core.display.Image object>"
      ]
     },
     "execution_count": 32,
     "metadata": {},
     "output_type": "execute_result"
    }
   ],
   "source": [
    "Image(filename='figure 2.png')"
   ]
  },
  {
   "cell_type": "code",
   "execution_count": 33,
   "metadata": {},
   "outputs": [
    {
     "data": {
      "image/png": "[encoded data removed]",
      "text/plain": [
       "<IPython.core.display.Image object>"
      ]
     },
     "execution_count": 33,
     "metadata": {},
     "output_type": "execute_result"
    }
   ],
   "source": [
    "Image(filename='figure 3.png')"
   ]
  },
  {
   "cell_type": "markdown",
   "metadata": {},
   "source": [
    "<a id='recommendation'></a>\n",
    "### GRPN Stock Recommendation: Sell\n",
    "\n",
    "\n",
    "Upon completing this exercise, calculating my own estimates for 4Q2013 North America Gross Billings by Segment, computing growth metrics, and comparing estimates to those of Wall Street equity reports, I would recommend a sell for GRPN stock ahead of their February earnings release. Estimates for gross billings by segment are shown in Figure 1, using the data provided, I found estimates to be 442.8, 282.2, and 70.6 Million USD for the Local, Goods, and Travel segments respectively. This provides an estimate of 795.6 Million USD for total North America Gross Billings. These estimates provide me with growth statistics of 18.97% Quarter-over-Quarter (3Q2013 to 4Q2012), and 14.56% Year-Over-Year (4Q2012 to 4Q2013) for North America Gross Billings. In analyzing these growth statistics, I noted decelerating growth rate figures in all segments QoQ, and in all segments YoY except for the Local Segment. Total QoQ, and YoY growth rate figures are both decelerating. \n",
    "\n",
    "In comparing estimates to those of Wall Street consensus, it is clear to see that the estimates calculated using the dataset provided are well below that of consensus estimates. Deutsche Bank provided estimates that were closest to the figures I calculated, ~7.5 Million USD higher than my estimates for total gross billings, but even then, at ~7.5 Million USD less than DB, my estimates are still barely near the bottom rung of consensus estimates. GRPN stock would not be rewarded on their earnings release for simply meeting the lowest tier of consensus estimates. On the higher end, if GRPN reported the figures calculated, they would miss Morgan Stanley estimates by almost 75 million USD for Total North America Gross Billings, and would report YoY growth figures that are ~15% lower than MS estimates. Although we have no way to confirm the accuracy of Wall Street Estimates, it is likely that they do not have the granularity of our estimates due to the access we have to direct GRPN web data. This leads me to believe that our estimates are even more accurate than those of Wall Street consensus. An earnings miss of this magnitude, falling more than 40 Million USD short of average consensus estimates for top line growth, and over 4.5% short on YoY growth would likely lead to a drop in GRPN stock price on their earnings release. \n",
    "\n",
    "Based primarily off of decelerating growth statistics for top line growth, and estimates for total gross billings/YoY Growth falling well below that of consensus estimates, I stand by my recommendation to sell GRPN stock ahead of their earnings release in February.\n",
    " "
   ]
  },
  {
   "cell_type": "markdown",
   "metadata": {},
   "source": [
    "<a id='qual_sum'></a>\n",
    "### Quality Assurance Summary \n",
    "\n",
    "Although the quality assurance checks are documented throughout this notebook, a summary of these checks are provided below. \n",
    "-  Checked that were no duplicate rows in our dataset, no duplicate deal_ids, and no duplicate deal_urls.\n",
    "-  Fixed any data that had an incorrect datatype such as observation time.\n",
    "-  Ensured that there was no missing data, and no NaN values.\n",
    "-  Applied methodology to fill in missing data from 10/20/2013 - 10/30/2013 using averages for # new deals started, mean_gross_billings, and mean_units_sold."
   ]
  },
  {
   "cell_type": "markdown",
   "metadata": {},
   "source": [
    "<a id='part2'></a>\n",
    "# Part 2"
   ]
  },
  {
   "cell_type": "markdown",
   "metadata": {},
   "source": [
    "Prior to importing this dataset into Python, I sorted the dataset in Excel using the built in sort function on the Deal URL column. "
   ]
  },
  {
   "cell_type": "markdown",
   "metadata": {},
   "source": [
    "<a id='p2datawrang'></a>\n",
    "### Data Wrangling & Cleaning"
   ]
  },
  {
   "cell_type": "code",
   "execution_count": 34,
   "metadata": {
    "collapsed": true
   },
   "outputs": [],
   "source": [
    "# import Belgium deals file into pandas dataframe\n",
    "df_belg = pd.read_csv('Mar-15_groupon.be_Deals.csv')"
   ]
  },
  {
   "cell_type": "code",
   "execution_count": 35,
   "metadata": {},
   "outputs": [
    {
     "data": {
      "text/html": [
       "<div>\n",
       "<style scoped>\n",
       "    .dataframe tbody tr th:only-of-type {\n",
       "        vertical-align: middle;\n",
       "    }\n",
       "\n",
       "    .dataframe tbody tr th {\n",
       "        vertical-align: top;\n",
       "    }\n",
       "\n",
       "    .dataframe thead th {\n",
       "        text-align: right;\n",
       "    }\n",
       "</style>\n",
       "<table border=\"1\" class=\"dataframe\">\n",
       "  <thead>\n",
       "    <tr style=\"text-align: right;\">\n",
       "      <th></th>\n",
       "      <th>Deal URL</th>\n",
       "      <th>Quantity Sold</th>\n",
       "      <th>Price</th>\n",
       "      <th>Observation Time</th>\n",
       "    </tr>\n",
       "  </thead>\n",
       "  <tbody>\n",
       "    <tr>\n",
       "      <th>0</th>\n",
       "      <td>http://www.groupon.be/deals/antwerpen_fr/abric...</td>\n",
       "      <td>13</td>\n",
       "      <td>EUR 99</td>\n",
       "      <td>3/30/15 5:14</td>\n",
       "    </tr>\n",
       "    <tr>\n",
       "      <th>1</th>\n",
       "      <td>http://www.groupon.be/deals/antwerpen_fr/aesth...</td>\n",
       "      <td>12</td>\n",
       "      <td>EUR 120</td>\n",
       "      <td>3/31/15 2:32</td>\n",
       "    </tr>\n",
       "    <tr>\n",
       "      <th>2</th>\n",
       "      <td>http://www.groupon.be/deals/antwerpen_fr/aesth...</td>\n",
       "      <td>12</td>\n",
       "      <td>EUR 120</td>\n",
       "      <td>3/31/15 2:32</td>\n",
       "    </tr>\n",
       "    <tr>\n",
       "      <th>3</th>\n",
       "      <td>http://www.groupon.be/deals/antwerpen_fr/ali-b...</td>\n",
       "      <td>1</td>\n",
       "      <td>EUR 50</td>\n",
       "      <td>3/31/15 10:22</td>\n",
       "    </tr>\n",
       "    <tr>\n",
       "      <th>4</th>\n",
       "      <td>http://www.groupon.be/deals/antwerpen_fr/ali-b...</td>\n",
       "      <td>6</td>\n",
       "      <td>EUR 30</td>\n",
       "      <td>3/31/15 10:22</td>\n",
       "    </tr>\n",
       "  </tbody>\n",
       "</table>\n",
       "</div>"
      ],
      "text/plain": [
       "                                            Deal URL  Quantity Sold    Price  \\\n",
       "0  http://www.groupon.be/deals/antwerpen_fr/abric...             13   EUR 99   \n",
       "1  http://www.groupon.be/deals/antwerpen_fr/aesth...             12  EUR 120   \n",
       "2  http://www.groupon.be/deals/antwerpen_fr/aesth...             12  EUR 120   \n",
       "3  http://www.groupon.be/deals/antwerpen_fr/ali-b...              1   EUR 50   \n",
       "4  http://www.groupon.be/deals/antwerpen_fr/ali-b...              6   EUR 30   \n",
       "\n",
       "  Observation Time  \n",
       "0     3/30/15 5:14  \n",
       "1     3/31/15 2:32  \n",
       "2     3/31/15 2:32  \n",
       "3    3/31/15 10:22  \n",
       "4    3/31/15 10:22  "
      ]
     },
     "execution_count": 35,
     "metadata": {},
     "output_type": "execute_result"
    }
   ],
   "source": [
    "# display a snapshot of our dataframe to see how data has been imported\n",
    "df_belg.head()"
   ]
  },
  {
   "cell_type": "code",
   "execution_count": 36,
   "metadata": {},
   "outputs": [
    {
     "data": {
      "text/plain": [
       "(74491, 4)"
      ]
     },
     "execution_count": 36,
     "metadata": {},
     "output_type": "execute_result"
    }
   ],
   "source": [
    "# see the shape of our dataset \n",
    "df_belg.shape"
   ]
  },
  {
   "cell_type": "code",
   "execution_count": 37,
   "metadata": {},
   "outputs": [
    {
     "name": "stdout",
     "output_type": "stream",
     "text": [
      "<class 'pandas.core.frame.DataFrame'>\n",
      "RangeIndex: 74491 entries, 0 to 74490\n",
      "Data columns (total 4 columns):\n",
      "Deal URL            74491 non-null object\n",
      "Quantity Sold       74491 non-null int64\n",
      "Price               74491 non-null object\n",
      "Observation Time    74491 non-null object\n",
      "dtypes: int64(1), object(3)\n",
      "memory usage: 2.3+ MB\n"
     ]
    }
   ],
   "source": [
    "# display info on datatypes and number of values in each column \n",
    "df_belg.info()"
   ]
  },
  {
   "cell_type": "markdown",
   "metadata": {},
   "source": [
    "From this information above we can note that there are no missing values in any columns for our dataset. I also notice that Price and Observation time are currently set as datatype object, I will want to convert price to int and oberervation time to datetime format. "
   ]
  },
  {
   "cell_type": "code",
   "execution_count": 38,
   "metadata": {},
   "outputs": [
    {
     "data": {
      "text/plain": [
       "Deal URL            74491\n",
       "Quantity Sold         550\n",
       "Price                 430\n",
       "Observation Time     2817\n",
       "dtype: int64"
      ]
     },
     "execution_count": 38,
     "metadata": {},
     "output_type": "execute_result"
    }
   ],
   "source": [
    "# display the number of unique values in each column of our dataset \n",
    "df_belg.nunique()"
   ]
  },
  {
   "cell_type": "markdown",
   "metadata": {},
   "source": [
    "Considering that I will need to use patterns in all columns to determine which rows are duplicates, I can see that are quite a few rows that have the same values in quantity_sold, price, and observation_time. This leads me to believe that identical values in those columns will be part of the methodolgy in finding our duplicates. "
   ]
  },
  {
   "cell_type": "code",
   "execution_count": 39,
   "metadata": {
    "collapsed": true
   },
   "outputs": [],
   "source": [
    "# parse through column names removing spaces and replacing with '_' and converting everything to lower case \n",
    "df_belg.columns = df_belg.columns.str.strip().str.lower().str.replace(' ', '_').str.replace('(', '').str.replace(')', '')"
   ]
  },
  {
   "cell_type": "code",
   "execution_count": 40,
   "metadata": {
    "collapsed": true
   },
   "outputs": [],
   "source": [
    "# remove EUR from price column\n",
    "df_belg['price'] = df_belg['price'].map(lambda x: x.lstrip('EUR'))"
   ]
  },
  {
   "cell_type": "code",
   "execution_count": 41,
   "metadata": {
    "collapsed": true
   },
   "outputs": [],
   "source": [
    "# convert price from datatype str to int\n",
    "df_belg['price'] = pd.to_numeric(df_belg['price'], errors='coerce').fillna(0).astype(np.int64)"
   ]
  },
  {
   "cell_type": "code",
   "execution_count": 42,
   "metadata": {
    "collapsed": true
   },
   "outputs": [],
   "source": [
    "# convert observation time from string to datetime format\n",
    "df_belg['observation_time'] = pd.to_datetime(df_belg['observation_time'])"
   ]
  },
  {
   "cell_type": "markdown",
   "metadata": {},
   "source": [
    "<a id='dupemethod'></a>\n",
    "### Duplication Methodology Explained"
   ]
  },
  {
   "cell_type": "markdown",
   "metadata": {},
   "source": [
    "My methodology for finding duplicates in this dataset will be as follows:\n",
    "-  Each URL is structured in a similar way. All of them begin with http://www.groupon.be/deals/, followed by location, the product, and then what seems to be a unique URL identifier. Rows that are duplicates will have the same URL up until the unique identifier. \n",
    "-  In order to find these URL's that match, I will search through the deal_urls, identifying those with matching information between http://www.groupon.be/deals/ and the unique identifier. In order to identify these, I will be parsing through the deal urls and extracting the string of text between the 4th and 6th '/'.\n",
    "- In addition to this, the rows must have the same number of units sold, price, and observation time in order to be considered a complete duplicate. This must also be true because there are deals for the same product that has a different price and different number of units sold associated with it. \n",
    "-  An example of two rows that are duplicates will be provided in a few cells below."
   ]
  },
  {
   "cell_type": "code",
   "execution_count": 43,
   "metadata": {
    "collapsed": true
   },
   "outputs": [],
   "source": [
    "# create a column in our dataframe that holds a list of strings split by '/' for each deal url\n",
    "df_belg['url_split'] = df_belg['deal_url'].str.split('/')"
   ]
  },
  {
   "cell_type": "code",
   "execution_count": 44,
   "metadata": {
    "collapsed": true
   },
   "outputs": [],
   "source": [
    "# initialize an empty list that will hold all of the location_product_ids\n",
    "loc_prod_list = []\n",
    "\n",
    "# iterate through each row of our url_split column and take the 4 and 5 indexes concatenated and append loc_prod_list\n",
    "# this takes the specific location/deal_id from each url \n",
    "for row in df_belg['url_split']:\n",
    "    loc_prod_list.append(row[4]+row[5])"
   ]
  },
  {
   "cell_type": "code",
   "execution_count": 45,
   "metadata": {
    "collapsed": true
   },
   "outputs": [],
   "source": [
    "# create a column for location_product_ids in our dataframe\n",
    "df_belg['loc_prod_id'] = loc_prod_list"
   ]
  },
  {
   "cell_type": "code",
   "execution_count": 46,
   "metadata": {},
   "outputs": [
    {
     "data": {
      "text/html": [
       "<div>\n",
       "<style scoped>\n",
       "    .dataframe tbody tr th:only-of-type {\n",
       "        vertical-align: middle;\n",
       "    }\n",
       "\n",
       "    .dataframe tbody tr th {\n",
       "        vertical-align: top;\n",
       "    }\n",
       "\n",
       "    .dataframe thead th {\n",
       "        text-align: right;\n",
       "    }\n",
       "</style>\n",
       "<table border=\"1\" class=\"dataframe\">\n",
       "  <thead>\n",
       "    <tr style=\"text-align: right;\">\n",
       "      <th></th>\n",
       "      <th>deal_url</th>\n",
       "      <th>quantity_sold</th>\n",
       "      <th>price</th>\n",
       "      <th>observation_time</th>\n",
       "      <th>url_split</th>\n",
       "      <th>loc_prod_id</th>\n",
       "    </tr>\n",
       "  </thead>\n",
       "  <tbody>\n",
       "    <tr>\n",
       "      <th>0</th>\n",
       "      <td>http://www.groupon.be/deals/antwerpen_fr/abric...</td>\n",
       "      <td>13</td>\n",
       "      <td>99</td>\n",
       "      <td>2015-03-30 05:14:00</td>\n",
       "      <td>[http:, , www.groupon.be, deals, antwerpen_fr,...</td>\n",
       "      <td>antwerpen_frabricot</td>\n",
       "    </tr>\n",
       "    <tr>\n",
       "      <th>1</th>\n",
       "      <td>http://www.groupon.be/deals/antwerpen_fr/aesth...</td>\n",
       "      <td>12</td>\n",
       "      <td>120</td>\n",
       "      <td>2015-03-31 02:32:00</td>\n",
       "      <td>[http:, , www.groupon.be, deals, antwerpen_fr,...</td>\n",
       "      <td>antwerpen_fraesthetics-beauty-clinics-2</td>\n",
       "    </tr>\n",
       "    <tr>\n",
       "      <th>2</th>\n",
       "      <td>http://www.groupon.be/deals/antwerpen_fr/aesth...</td>\n",
       "      <td>12</td>\n",
       "      <td>120</td>\n",
       "      <td>2015-03-31 02:32:00</td>\n",
       "      <td>[http:, , www.groupon.be, deals, antwerpen_fr,...</td>\n",
       "      <td>antwerpen_fraesthetics-beauty-clinics-2</td>\n",
       "    </tr>\n",
       "    <tr>\n",
       "      <th>3</th>\n",
       "      <td>http://www.groupon.be/deals/antwerpen_fr/ali-b...</td>\n",
       "      <td>1</td>\n",
       "      <td>50</td>\n",
       "      <td>2015-03-31 10:22:00</td>\n",
       "      <td>[http:, , www.groupon.be, deals, antwerpen_fr,...</td>\n",
       "      <td>antwerpen_frali-baba-antwerpen</td>\n",
       "    </tr>\n",
       "    <tr>\n",
       "      <th>4</th>\n",
       "      <td>http://www.groupon.be/deals/antwerpen_fr/ali-b...</td>\n",
       "      <td>6</td>\n",
       "      <td>30</td>\n",
       "      <td>2015-03-31 10:22:00</td>\n",
       "      <td>[http:, , www.groupon.be, deals, antwerpen_fr,...</td>\n",
       "      <td>antwerpen_frali-baba-antwerpen</td>\n",
       "    </tr>\n",
       "  </tbody>\n",
       "</table>\n",
       "</div>"
      ],
      "text/plain": [
       "                                            deal_url  quantity_sold  price  \\\n",
       "0  http://www.groupon.be/deals/antwerpen_fr/abric...             13     99   \n",
       "1  http://www.groupon.be/deals/antwerpen_fr/aesth...             12    120   \n",
       "2  http://www.groupon.be/deals/antwerpen_fr/aesth...             12    120   \n",
       "3  http://www.groupon.be/deals/antwerpen_fr/ali-b...              1     50   \n",
       "4  http://www.groupon.be/deals/antwerpen_fr/ali-b...              6     30   \n",
       "\n",
       "     observation_time                                          url_split  \\\n",
       "0 2015-03-30 05:14:00  [http:, , www.groupon.be, deals, antwerpen_fr,...   \n",
       "1 2015-03-31 02:32:00  [http:, , www.groupon.be, deals, antwerpen_fr,...   \n",
       "2 2015-03-31 02:32:00  [http:, , www.groupon.be, deals, antwerpen_fr,...   \n",
       "3 2015-03-31 10:22:00  [http:, , www.groupon.be, deals, antwerpen_fr,...   \n",
       "4 2015-03-31 10:22:00  [http:, , www.groupon.be, deals, antwerpen_fr,...   \n",
       "\n",
       "                               loc_prod_id  \n",
       "0                      antwerpen_frabricot  \n",
       "1  antwerpen_fraesthetics-beauty-clinics-2  \n",
       "2  antwerpen_fraesthetics-beauty-clinics-2  \n",
       "3           antwerpen_frali-baba-antwerpen  \n",
       "4           antwerpen_frali-baba-antwerpen  "
      ]
     },
     "execution_count": 46,
     "metadata": {},
     "output_type": "execute_result"
    }
   ],
   "source": [
    "# display a snapshot of our dataframe after some adjustments \n",
    "df_belg.head()"
   ]
  },
  {
   "cell_type": "markdown",
   "metadata": {},
   "source": [
    "The below rows show an example of two rows in our dataset which are duplicates. They follow the methodology detaied above in that quantity sold, price, observation time, and location_product_id extracted from the deal url are all identical. In the cells below, we will use a built in Python method to remove these duplicated rows based off of a subset of column values in each row "
   ]
  },
  {
   "cell_type": "code",
   "execution_count": 48,
   "metadata": {},
   "outputs": [
    {
     "data": {
      "text/html": [
       "<div>\n",
       "<style scoped>\n",
       "    .dataframe tbody tr th:only-of-type {\n",
       "        vertical-align: middle;\n",
       "    }\n",
       "\n",
       "    .dataframe tbody tr th {\n",
       "        vertical-align: top;\n",
       "    }\n",
       "\n",
       "    .dataframe thead th {\n",
       "        text-align: right;\n",
       "    }\n",
       "</style>\n",
       "<table border=\"1\" class=\"dataframe\">\n",
       "  <thead>\n",
       "    <tr style=\"text-align: right;\">\n",
       "      <th></th>\n",
       "      <th>deal_url</th>\n",
       "      <th>quantity_sold</th>\n",
       "      <th>price</th>\n",
       "      <th>observation_time</th>\n",
       "      <th>url_split</th>\n",
       "      <th>loc_prod_id</th>\n",
       "    </tr>\n",
       "  </thead>\n",
       "  <tbody>\n",
       "    <tr>\n",
       "      <th>1</th>\n",
       "      <td>http://www.groupon.be/deals/antwerpen_fr/aesth...</td>\n",
       "      <td>12</td>\n",
       "      <td>120</td>\n",
       "      <td>2015-03-31 02:32:00</td>\n",
       "      <td>[http:, , www.groupon.be, deals, antwerpen_fr,...</td>\n",
       "      <td>antwerpen_fraesthetics-beauty-clinics-2</td>\n",
       "    </tr>\n",
       "    <tr>\n",
       "      <th>2</th>\n",
       "      <td>http://www.groupon.be/deals/antwerpen_fr/aesth...</td>\n",
       "      <td>12</td>\n",
       "      <td>120</td>\n",
       "      <td>2015-03-31 02:32:00</td>\n",
       "      <td>[http:, , www.groupon.be, deals, antwerpen_fr,...</td>\n",
       "      <td>antwerpen_fraesthetics-beauty-clinics-2</td>\n",
       "    </tr>\n",
       "  </tbody>\n",
       "</table>\n",
       "</div>"
      ],
      "text/plain": [
       "                                            deal_url  quantity_sold  price  \\\n",
       "1  http://www.groupon.be/deals/antwerpen_fr/aesth...             12    120   \n",
       "2  http://www.groupon.be/deals/antwerpen_fr/aesth...             12    120   \n",
       "\n",
       "     observation_time                                          url_split  \\\n",
       "1 2015-03-31 02:32:00  [http:, , www.groupon.be, deals, antwerpen_fr,...   \n",
       "2 2015-03-31 02:32:00  [http:, , www.groupon.be, deals, antwerpen_fr,...   \n",
       "\n",
       "                               loc_prod_id  \n",
       "1  antwerpen_fraesthetics-beauty-clinics-2  \n",
       "2  antwerpen_fraesthetics-beauty-clinics-2  "
      ]
     },
     "execution_count": 48,
     "metadata": {},
     "output_type": "execute_result"
    }
   ],
   "source": [
    "df_belg.iloc[1:3]"
   ]
  },
  {
   "cell_type": "markdown",
   "metadata": {},
   "source": [
    "<a id='validdeals'></a>\n",
    "### Valid Deals"
   ]
  },
  {
   "cell_type": "code",
   "execution_count": 49,
   "metadata": {
    "collapsed": true
   },
   "outputs": [],
   "source": [
    "# create a dataframe subset from our main dataframe dropping all of the duplicates using our methodology above \n",
    "# we will keep one (valid deal) as well as all deals that are not duplicated \n",
    "valid_deals = df_belg.drop_duplicates(subset=['quanity_sold', 'price', 'observation_time', 'loc_prod_id'], keep= 'first')"
   ]
  },
  {
   "cell_type": "code",
   "execution_count": 50,
   "metadata": {},
   "outputs": [
    {
     "name": "stderr",
     "output_type": "stream",
     "text": [
      "/anaconda3/lib/python3.6/site-packages/ipykernel_launcher.py:2: SettingWithCopyWarning: \n",
      "A value is trying to be set on a copy of a slice from a DataFrame.\n",
      "Try using .loc[row_indexer,col_indexer] = value instead\n",
      "\n",
      "See the caveats in the documentation: http://pandas.pydata.org/pandas-docs/stable/indexing.html#indexing-view-versus-copy\n",
      "  \n"
     ]
    }
   ],
   "source": [
    "# create a gross billings column by multipying price by quantity sold for each of our valid deals\n",
    "valid_deals['gross_billings'] = valid_deals['quantity_sold'] * valid_deals['price']"
   ]
  },
  {
   "cell_type": "code",
   "execution_count": 51,
   "metadata": {},
   "outputs": [
    {
     "data": {
      "text/html": [
       "<div>\n",
       "<style scoped>\n",
       "    .dataframe tbody tr th:only-of-type {\n",
       "        vertical-align: middle;\n",
       "    }\n",
       "\n",
       "    .dataframe tbody tr th {\n",
       "        vertical-align: top;\n",
       "    }\n",
       "\n",
       "    .dataframe thead th {\n",
       "        text-align: right;\n",
       "    }\n",
       "</style>\n",
       "<table border=\"1\" class=\"dataframe\">\n",
       "  <thead>\n",
       "    <tr style=\"text-align: right;\">\n",
       "      <th></th>\n",
       "      <th>deal_url</th>\n",
       "      <th>quantity_sold</th>\n",
       "      <th>price</th>\n",
       "      <th>observation_time</th>\n",
       "      <th>url_split</th>\n",
       "      <th>loc_prod_id</th>\n",
       "      <th>gross_billings</th>\n",
       "    </tr>\n",
       "  </thead>\n",
       "  <tbody>\n",
       "    <tr>\n",
       "      <th>0</th>\n",
       "      <td>http://www.groupon.be/deals/antwerpen_fr/abric...</td>\n",
       "      <td>13</td>\n",
       "      <td>99</td>\n",
       "      <td>2015-03-30 05:14:00</td>\n",
       "      <td>[http:, , www.groupon.be, deals, antwerpen_fr,...</td>\n",
       "      <td>antwerpen_frabricot</td>\n",
       "      <td>1287</td>\n",
       "    </tr>\n",
       "    <tr>\n",
       "      <th>1</th>\n",
       "      <td>http://www.groupon.be/deals/antwerpen_fr/aesth...</td>\n",
       "      <td>12</td>\n",
       "      <td>120</td>\n",
       "      <td>2015-03-31 02:32:00</td>\n",
       "      <td>[http:, , www.groupon.be, deals, antwerpen_fr,...</td>\n",
       "      <td>antwerpen_fraesthetics-beauty-clinics-2</td>\n",
       "      <td>1440</td>\n",
       "    </tr>\n",
       "    <tr>\n",
       "      <th>3</th>\n",
       "      <td>http://www.groupon.be/deals/antwerpen_fr/ali-b...</td>\n",
       "      <td>1</td>\n",
       "      <td>50</td>\n",
       "      <td>2015-03-31 10:22:00</td>\n",
       "      <td>[http:, , www.groupon.be, deals, antwerpen_fr,...</td>\n",
       "      <td>antwerpen_frali-baba-antwerpen</td>\n",
       "      <td>50</td>\n",
       "    </tr>\n",
       "    <tr>\n",
       "      <th>4</th>\n",
       "      <td>http://www.groupon.be/deals/antwerpen_fr/ali-b...</td>\n",
       "      <td>6</td>\n",
       "      <td>30</td>\n",
       "      <td>2015-03-31 10:22:00</td>\n",
       "      <td>[http:, , www.groupon.be, deals, antwerpen_fr,...</td>\n",
       "      <td>antwerpen_frali-baba-antwerpen</td>\n",
       "      <td>180</td>\n",
       "    </tr>\n",
       "    <tr>\n",
       "      <th>6</th>\n",
       "      <td>http://www.groupon.be/deals/antwerpen_fr/antwe...</td>\n",
       "      <td>0</td>\n",
       "      <td>0</td>\n",
       "      <td>2015-03-30 12:45:00</td>\n",
       "      <td>[http:, , www.groupon.be, deals, antwerpen_fr,...</td>\n",
       "      <td>antwerpen_frantwerp-bowling-1</td>\n",
       "      <td>0</td>\n",
       "    </tr>\n",
       "  </tbody>\n",
       "</table>\n",
       "</div>"
      ],
      "text/plain": [
       "                                            deal_url  quantity_sold  price  \\\n",
       "0  http://www.groupon.be/deals/antwerpen_fr/abric...             13     99   \n",
       "1  http://www.groupon.be/deals/antwerpen_fr/aesth...             12    120   \n",
       "3  http://www.groupon.be/deals/antwerpen_fr/ali-b...              1     50   \n",
       "4  http://www.groupon.be/deals/antwerpen_fr/ali-b...              6     30   \n",
       "6  http://www.groupon.be/deals/antwerpen_fr/antwe...              0      0   \n",
       "\n",
       "     observation_time                                          url_split  \\\n",
       "0 2015-03-30 05:14:00  [http:, , www.groupon.be, deals, antwerpen_fr,...   \n",
       "1 2015-03-31 02:32:00  [http:, , www.groupon.be, deals, antwerpen_fr,...   \n",
       "3 2015-03-31 10:22:00  [http:, , www.groupon.be, deals, antwerpen_fr,...   \n",
       "4 2015-03-31 10:22:00  [http:, , www.groupon.be, deals, antwerpen_fr,...   \n",
       "6 2015-03-30 12:45:00  [http:, , www.groupon.be, deals, antwerpen_fr,...   \n",
       "\n",
       "                               loc_prod_id  gross_billings  \n",
       "0                      antwerpen_frabricot            1287  \n",
       "1  antwerpen_fraesthetics-beauty-clinics-2            1440  \n",
       "3           antwerpen_frali-baba-antwerpen              50  \n",
       "4           antwerpen_frali-baba-antwerpen             180  \n",
       "6            antwerpen_frantwerp-bowling-1               0  "
      ]
     },
     "execution_count": 51,
     "metadata": {},
     "output_type": "execute_result"
    }
   ],
   "source": [
    "valid_deals.head()"
   ]
  },
  {
   "cell_type": "code",
   "execution_count": 52,
   "metadata": {},
   "outputs": [
    {
     "data": {
      "text/plain": [
       "(44451, 7)"
      ]
     },
     "execution_count": 52,
     "metadata": {},
     "output_type": "execute_result"
    }
   ],
   "source": [
    "valid_deals.shape"
   ]
  },
  {
   "cell_type": "markdown",
   "metadata": {},
   "source": [
    "<a id='est_sum'></a>\n",
    "### Estimate Summary"
   ]
  },
  {
   "cell_type": "code",
   "execution_count": 53,
   "metadata": {},
   "outputs": [
    {
     "name": "stdout",
     "output_type": "stream",
     "text": [
      "30040 duplicate rows were removed from our orignal dataset.\n"
     ]
    }
   ],
   "source": [
    "print ('30040 duplicate rows were removed from our orignal dataset.')"
   ]
  },
  {
   "cell_type": "code",
   "execution_count": 54,
   "metadata": {},
   "outputs": [
    {
     "name": "stdout",
     "output_type": "stream",
     "text": [
      "Estimate for Belgium March 2015 Gross Billings is: 138046133 EUR\n"
     ]
    }
   ],
   "source": [
    "# calculate estimate for Belgium March 2015 Gross Billings \n",
    "print('Estimate for Belgium March 2015 Gross Billings is:', valid_deals.gross_billings.sum(),'EUR')"
   ]
  },
  {
   "cell_type": "code",
   "execution_count": 55,
   "metadata": {
    "collapsed": true
   },
   "outputs": [],
   "source": [
    "# save our valid deals dataframe \n",
    "valid_deals.to_csv('valid_deals.csv')"
   ]
  }
 ],
 "metadata": {
  "kernelspec": {
   "display_name": "Python 3",
   "language": "python",
   "name": "python3"
  },
  "language_info": {
   "codemirror_mode": {
    "name": "ipython",
    "version": 3
   },
   "file_extension": ".py",
   "mimetype": "text/x-python",
   "name": "python",
   "nbconvert_exporter": "python",
   "pygments_lexer": "ipython3",
   "version": "3.6.3"
  }
 },
 "nbformat": 4,
 "nbformat_minor": 2
}
